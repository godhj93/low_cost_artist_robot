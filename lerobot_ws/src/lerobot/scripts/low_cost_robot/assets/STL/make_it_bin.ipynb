{
 "cells": [
  {
   "cell_type": "code",
   "execution_count": 7,
   "metadata": {},
   "outputs": [],
   "source": [
    "from stl import mesh\n",
    "from glob import glob\n",
    "\n",
    "for STL in glob('*.STL'):\n",
    "    \n",
    "    ascii_mesh = mesh.Mesh.from_file(STL)\n",
    "    \n",
    "    ascii_mesh.save(STL.replace('STL', 'stl'))#, mode='binary')\n"
   ]
  },
  {
   "cell_type": "code",
   "execution_count": null,
   "metadata": {},
   "outputs": [],
   "source": [
    "\n",
    "# ASCII STL 파일 경로\n",
    "ascii_stl_file = 'example_ascii.stl'\n",
    "\n",
    "# 변환된 바이너리 STL 파일 경로\n",
    "binary_stl_file = 'example_binary.stl'\n",
    "\n",
    "# ASCII STL 파일 읽기\n",
    "ascii_mesh = mesh.Mesh.from_file(ascii_stl_file)\n",
    "\n",
    "# 바이너리 STL 파일로 저장\n",
    "ascii_mesh.save(binary_stl_file, mode=mesh.Mode.BINARY)\n",
    "\n",
    "print(f\"{binary_stl_file}로 변환 완료!\")\n"
   ]
  }
 ],
 "metadata": {
  "kernelspec": {
   "display_name": "Python 3",
   "language": "python",
   "name": "python3"
  },
  "language_info": {
   "codemirror_mode": {
    "name": "ipython",
    "version": 3
   },
   "file_extension": ".py",
   "mimetype": "text/x-python",
   "name": "python",
   "nbconvert_exporter": "python",
   "pygments_lexer": "ipython3",
   "version": "3.8.10"
  }
 },
 "nbformat": 4,
 "nbformat_minor": 2
}
